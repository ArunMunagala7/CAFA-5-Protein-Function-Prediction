{
 "cells": [
  {
   "cell_type": "markdown",
   "id": "96376424",
   "metadata": {
    "papermill": {
     "duration": 0.003249,
     "end_time": "2023-05-02T02:49:33.234951",
     "exception": false,
     "start_time": "2023-05-02T02:49:33.231702",
     "status": "completed"
    },
    "tags": []
   },
   "source": [
    "The given code is a starter code that uses a naive approach for CAFA 5 Protein Function Prediction problem. The code reads a training dataset that contains protein sequences and their corresponding Gene Ontology (GO) terms, and extracts the most frequently occurring GO terms. These top GO terms are then used to make predictions for a test dataset that contains protein sequences. The predictions are made by assigning the top GO terms to each protein sequence in the test dataset with a confidence score that corresponds to the relative frequency of the term in the training dataset. "
   ]
  },
  {
   "cell_type": "code",
   "execution_count": 1,
   "id": "741184c8",
   "metadata": {
    "_cell_guid": "b1076dfc-b9ad-4769-8c92-a6c4dae69d19",
    "_uuid": "8f2839f25d086af736a60e9eeb907d3b93b6e0e5",
    "execution": {
     "iopub.execute_input": "2023-05-02T02:49:33.241875Z",
     "iopub.status.busy": "2023-05-02T02:49:33.241328Z",
     "iopub.status.idle": "2023-05-02T02:49:33.368996Z",
     "shell.execute_reply": "2023-05-02T02:49:33.367861Z"
    },
    "papermill": {
     "duration": 0.134407,
     "end_time": "2023-05-02T02:49:33.371910",
     "exception": false,
     "start_time": "2023-05-02T02:49:33.237503",
     "status": "completed"
    },
    "tags": []
   },
   "outputs": [],
   "source": [
    "import numpy as np\n",
    "import pandas as pd\n",
    "from Bio import SeqIO\n",
    "from tqdm import tqdm"
   ]
  },
  {
   "cell_type": "code",
   "execution_count": 2,
   "id": "5af93804",
   "metadata": {
    "execution": {
     "iopub.execute_input": "2023-05-02T02:49:33.377992Z",
     "iopub.status.busy": "2023-05-02T02:49:33.377571Z",
     "iopub.status.idle": "2023-05-02T02:49:33.385676Z",
     "shell.execute_reply": "2023-05-02T02:49:33.384541Z"
    },
    "papermill": {
     "duration": 0.013912,
     "end_time": "2023-05-02T02:49:33.388110",
     "exception": false,
     "start_time": "2023-05-02T02:49:33.374198",
     "status": "completed"
    },
    "tags": []
   },
   "outputs": [],
   "source": [
    "def read_fasta(fastaPath):    \n",
    "    fasta_sequences = SeqIO.parse(open(fastaPath), 'fasta')\n",
    "    ids = []\n",
    "    sequences = []\n",
    "    for fasta in fasta_sequences:\n",
    "        ids.append(fasta.id)\n",
    "        sequences.append(str(fasta.seq))\n",
    "    return pd.DataFrame({'Id': ids, 'Sequence': sequences})\n",
    "\n",
    "def get_top_go_terms(data, num_terms):\n",
    "    term_counts = data['term'].value_counts()\n",
    "    freq_counts = term_counts / len(data)\n",
    "    freq_top = freq_counts.nlargest(num_terms)\n",
    "    return freq_top"
   ]
  },
  {
   "cell_type": "code",
   "execution_count": 3,
   "id": "d089c779",
   "metadata": {
    "execution": {
     "iopub.execute_input": "2023-05-02T02:49:33.394434Z",
     "iopub.status.busy": "2023-05-02T02:49:33.393713Z",
     "iopub.status.idle": "2023-05-02T02:49:59.678889Z",
     "shell.execute_reply": "2023-05-02T02:49:59.677385Z"
    },
    "papermill": {
     "duration": 26.29168,
     "end_time": "2023-05-02T02:49:59.682076",
     "exception": false,
     "start_time": "2023-05-02T02:49:33.390396",
     "status": "completed"
    },
    "tags": []
   },
   "outputs": [
    {
     "name": "stderr",
     "output_type": "stream",
     "text": [
      "100%|██████████| 141865/141865 [00:15<00:00, 8924.39it/s]\n"
     ]
    }
   ],
   "source": [
    "train_terms = pd.read_csv('/kaggle/input/cafa-5-protein-function-prediction/Train/train_terms.tsv', sep='\\t')\n",
    "top_terms = get_top_go_terms(train_terms, 10)\n",
    "\n",
    "test_data = read_fasta('/kaggle/input/cafa-5-protein-function-prediction/Test (Targets)/testsuperset.fasta')\n",
    "\n",
    "results = []\n",
    "for index, row in tqdm(test_data.iterrows(), total=test_data.shape[0], position=0):\n",
    "    for term, freq in top_terms.items():\n",
    "        results.append((row['Id'], term, freq))\n",
    "\n",
    "final_results = pd.DataFrame(results, columns=['Id', 'GO term', 'Confidence'])\n",
    "final_results.to_csv('submission.tsv', sep='\\t', index=False)"
   ]
  },
  {
   "cell_type": "code",
   "execution_count": null,
   "id": "ae518ee5",
   "metadata": {
    "papermill": {
     "duration": 0.011805,
     "end_time": "2023-05-02T02:49:59.706435",
     "exception": false,
     "start_time": "2023-05-02T02:49:59.694630",
     "status": "completed"
    },
    "tags": []
   },
   "outputs": [],
   "source": []
  }
 ],
 "metadata": {
  "kernelspec": {
   "display_name": "Python 3",
   "language": "python",
   "name": "python3"
  },
  "language_info": {
   "codemirror_mode": {
    "name": "ipython",
    "version": 3
   },
   "file_extension": ".py",
   "mimetype": "text/x-python",
   "name": "python",
   "nbconvert_exporter": "python",
   "pygments_lexer": "ipython3",
   "version": "3.7.12"
  },
  "papermill": {
   "default_parameters": {},
   "duration": 39.136308,
   "end_time": "2023-05-02T02:50:00.644451",
   "environment_variables": {},
   "exception": null,
   "input_path": "__notebook__.ipynb",
   "output_path": "__notebook__.ipynb",
   "parameters": {},
   "start_time": "2023-05-02T02:49:21.508143",
   "version": "2.4.0"
  }
 },
 "nbformat": 4,
 "nbformat_minor": 5
}
