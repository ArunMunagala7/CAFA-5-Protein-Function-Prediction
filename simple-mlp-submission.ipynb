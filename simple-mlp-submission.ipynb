{
 "cells": [
  {
   "cell_type": "code",
   "execution_count": 1,
   "id": "a4106e8f",
   "metadata": {
    "_cell_guid": "b1076dfc-b9ad-4769-8c92-a6c4dae69d19",
    "_uuid": "8f2839f25d086af736a60e9eeb907d3b93b6e0e5",
    "execution": {
     "iopub.execute_input": "2023-05-19T02:45:55.523659Z",
     "iopub.status.busy": "2023-05-19T02:45:55.522795Z",
     "iopub.status.idle": "2023-05-19T02:46:02.909429Z",
     "shell.execute_reply": "2023-05-19T02:46:02.908470Z"
    },
    "papermill": {
     "duration": 7.398149,
     "end_time": "2023-05-19T02:46:02.912104",
     "exception": false,
     "start_time": "2023-05-19T02:45:55.513955",
     "status": "completed"
    },
    "tags": []
   },
   "outputs": [
    {
     "name": "stderr",
     "output_type": "stream",
     "text": [
      "/opt/conda/lib/python3.10/site-packages/scipy/__init__.py:146: UserWarning: A NumPy version >=1.16.5 and <1.23.0 is required for this version of SciPy (detected version 1.23.5\n",
      "  warnings.warn(f\"A NumPy version >={np_minversion} and <{np_maxversion}\"\n"
     ]
    }
   ],
   "source": [
    "import os\n",
    "import gc\n",
    "\n",
    "from sklearn.model_selection import train_test_split\n",
    "from sklearn.linear_model import Ridge\n",
    "from sklearn.metrics import roc_auc_score\n",
    "\n",
    "import numpy as np\n",
    "import pandas as pd\n",
    "\n",
    "from tqdm import tqdm\n",
    "tqdm.pandas()\n",
    "\n",
    "from keras.models import Sequential\n",
    "from keras.layers import Dense\n",
    "# measure roc auc score metric \n",
    "from tensorflow.keras.metrics import AUC"
   ]
  },
  {
   "cell_type": "markdown",
   "id": "bad2e677",
   "metadata": {
    "papermill": {
     "duration": 0.004907,
     "end_time": "2023-05-19T02:46:02.922495",
     "exception": false,
     "start_time": "2023-05-19T02:46:02.917588",
     "status": "completed"
    },
    "tags": []
   },
   "source": [
    "# Assigning labels"
   ]
  },
  {
   "cell_type": "code",
   "execution_count": 2,
   "id": "ae7965aa",
   "metadata": {
    "execution": {
     "iopub.execute_input": "2023-05-19T02:46:02.934414Z",
     "iopub.status.busy": "2023-05-19T02:46:02.933330Z",
     "iopub.status.idle": "2023-05-19T02:46:02.938295Z",
     "shell.execute_reply": "2023-05-19T02:46:02.937480Z"
    },
    "papermill": {
     "duration": 0.013096,
     "end_time": "2023-05-19T02:46:02.940518",
     "exception": false,
     "start_time": "2023-05-19T02:46:02.927422",
     "status": "completed"
    },
    "tags": []
   },
   "outputs": [],
   "source": [
    "DATA_DIR = '/kaggle/input/cafa-5-protein-function-prediction'\n",
    "MAX_LABELS = 500"
   ]
  },
  {
   "cell_type": "code",
   "execution_count": 3,
   "id": "94d20e57",
   "metadata": {
    "execution": {
     "iopub.execute_input": "2023-05-19T02:46:02.952384Z",
     "iopub.status.busy": "2023-05-19T02:46:02.951540Z",
     "iopub.status.idle": "2023-05-19T02:46:07.756553Z",
     "shell.execute_reply": "2023-05-19T02:46:07.755520Z"
    },
    "papermill": {
     "duration": 4.813302,
     "end_time": "2023-05-19T02:46:07.758900",
     "exception": false,
     "start_time": "2023-05-19T02:46:02.945598",
     "status": "completed"
    },
    "tags": []
   },
   "outputs": [
    {
     "name": "stdout",
     "output_type": "stream",
     "text": [
      "aspect\n",
      "BPO    21285\n",
      "CCO     2957\n",
      "MFO     7224\n",
      "Name: term, dtype: int64\n"
     ]
    }
   ],
   "source": [
    "train_terms = pd.read_csv(os.path.join(DATA_DIR, 'Train', 'train_terms.tsv'), sep='\\t')\n",
    "\n",
    "terms = train_terms.groupby(['aspect', 'term'])['term'].count().reset_index(name='frequency')\n",
    "print(terms.groupby('aspect')['term'].nunique())"
   ]
  },
  {
   "cell_type": "code",
   "execution_count": 4,
   "id": "37c6de8c",
   "metadata": {
    "execution": {
     "iopub.execute_input": "2023-05-19T02:46:07.770850Z",
     "iopub.status.busy": "2023-05-19T02:46:07.770499Z",
     "iopub.status.idle": "2023-05-19T02:46:07.818577Z",
     "shell.execute_reply": "2023-05-19T02:46:07.817499Z"
    },
    "papermill": {
     "duration": 0.056937,
     "end_time": "2023-05-19T02:46:07.821175",
     "exception": false,
     "start_time": "2023-05-19T02:46:07.764238",
     "status": "completed"
    },
    "tags": []
   },
   "outputs": [
    {
     "name": "stdout",
     "output_type": "stream",
     "text": [
      "aspect\n",
      "BPO    338\n",
      "CCO     47\n",
      "MFO    115\n",
      "Name: term, dtype: int64\n"
     ]
    }
   ],
   "source": [
    "fractions = (terms.groupby('aspect')['term'].nunique() / terms['term'].nunique() * MAX_LABELS).apply(round)\n",
    "print(fractions)\n",
    "\n",
    "selected_terms = set()\n",
    "for aspect, number in fractions.items():\n",
    "    selection = terms.loc[(terms.aspect == aspect)]\n",
    "    selection = selection.nlargest(number, columns='frequency', keep='first')\n",
    "    selected_terms.update(selection.term.to_list())"
   ]
  },
  {
   "cell_type": "code",
   "execution_count": 5,
   "id": "c6eb23d7",
   "metadata": {
    "execution": {
     "iopub.execute_input": "2023-05-19T02:46:07.832964Z",
     "iopub.status.busy": "2023-05-19T02:46:07.832670Z",
     "iopub.status.idle": "2023-05-19T02:46:07.837608Z",
     "shell.execute_reply": "2023-05-19T02:46:07.836702Z"
    },
    "papermill": {
     "duration": 0.013678,
     "end_time": "2023-05-19T02:46:07.840125",
     "exception": false,
     "start_time": "2023-05-19T02:46:07.826447",
     "status": "completed"
    },
    "tags": []
   },
   "outputs": [
    {
     "name": "stdout",
     "output_type": "stream",
     "text": [
      "{'GO:0042802', 'GO:0051174', 'GO:0097708', 'GO:0065009', 'GO:0043229', 'GO:0003674', 'GO:0019904', 'GO:0051252', 'GO:0007154', 'GO:0019901', 'GO:0009887', 'GO:0022803', 'GO:0009891', 'GO:0043085', 'GO:1902680', 'GO:0031328', 'GO:0016791', 'GO:1901575', 'GO:0006139', 'GO:1990837', 'GO:0050790', 'GO:0140097', 'GO:0010604', 'GO:0042127', 'GO:0048589', 'GO:0031344', 'GO:0051240', 'GO:0000003', 'GO:0010035', 'GO:0023051', 'GO:0010941', 'GO:0009266', 'GO:0042221', 'GO:0055085', 'GO:0048729', 'GO:0019752', 'GO:0004672', 'GO:0019787', 'GO:1901565', 'GO:0043169', 'GO:0007049', 'GO:0045597', 'GO:0048568', 'GO:0022836', 'GO:0009057', 'GO:0006955', 'GO:0010243', 'GO:0009628', 'GO:0005829', 'GO:0001216', 'GO:0048513', 'GO:2000026', 'GO:0048583', 'GO:0008284', 'GO:0030234', 'GO:0019900', 'GO:0000166', 'GO:1902531', 'GO:0042578', 'GO:0000977', 'GO:0003723', 'GO:0140677', 'GO:0001654', 'GO:0032559', 'GO:0044248', 'GO:0005739', 'GO:0002376', 'GO:0043067', 'GO:0051649', 'GO:0031410', 'GO:0043436', 'GO:0005694', 'GO:0005654', 'GO:0030182', 'GO:0098542', 'GO:0001932', 'GO:0016817', 'GO:0051641', 'GO:0051173', 'GO:0007423', 'GO:0140513', 'GO:0010467', 'GO:0150063', 'GO:0031974', 'GO:0035295', 'GO:0044877', 'GO:0060548', 'GO:0007610', 'GO:0019222', 'GO:0043232', 'GO:0005576', 'GO:0043233', 'GO:0016757', 'GO:0016829', 'GO:0048608', 'GO:0000987', 'GO:0007267', 'GO:0043228', 'GO:0051247', 'GO:0016192', 'GO:0009416', 'GO:0015630', 'GO:0003008', 'GO:0005198', 'GO:0044255', 'GO:0050896', 'GO:0022857', 'GO:0045595', 'GO:0110165', 'GO:0031323', 'GO:0022839', 'GO:0051246', 'GO:0010646', 'GO:0042330', 'GO:0031981', 'GO:0022607', 'GO:0006508', 'GO:0080090', 'GO:0038023', 'GO:1901135', 'GO:0016070', 'GO:0050877', 'GO:0022402', 'GO:0016787', 'GO:0033365', 'GO:0040007', 'GO:0006629', 'GO:0030154', 'GO:0070887', 'GO:0060341', 'GO:0046873', 'GO:0070727', 'GO:0008104', 'GO:0016462', 'GO:0030029', 'GO:1901360', 'GO:0005634', 'GO:0001067', 'GO:0044249', 'GO:0031327', 'GO:0032991', 'GO:0000976', 'GO:0071840', 'GO:0034660', 'GO:0022804', 'GO:0010564', 'GO:0140297', 'GO:0003729', 'GO:0043565', 'GO:0051094', 'GO:0031347', 'GO:0044419', 'GO:0019953', 'GO:0071702', 'GO:0006259', 'GO:0060284', 'GO:0005737', 'GO:0140640', 'GO:0050794', 'GO:0048870', 'GO:0097159', 'GO:1901566', 'GO:0019438', 'GO:0046914', 'GO:0010558', 'GO:0009791', 'GO:0007409', 'GO:0031667', 'GO:1901363', 'GO:0009890', 'GO:0044085', 'GO:1901615', 'GO:0016705', 'GO:0005794', 'GO:0004674', 'GO:0006807', 'GO:0040011', 'GO:0060090', 'GO:0043231', 'GO:0048609', 'GO:0006355', 'GO:0048878', 'GO:0003002', 'GO:0009719', 'GO:0033554', 'GO:0009966', 'GO:0000902', 'GO:0016874', 'GO:0018130', 'GO:0022603', 'GO:0031399', 'GO:0008150', 'GO:0051171', 'GO:0031175', 'GO:0007017', 'GO:0003682', 'GO:0000278', 'GO:0016758', 'GO:0061564', 'GO:0071705', 'GO:0045944', 'GO:0019220', 'GO:0120039', 'GO:0022890', 'GO:0048468', 'GO:0007507', 'GO:2000145', 'GO:0050789', 'GO:0016747', 'GO:0044260', 'GO:0016740', 'GO:0016746', 'GO:0098772', 'GO:0017076', 'GO:0045202', 'GO:0036211', 'GO:0048519', 'GO:0007166', 'GO:0044283', 'GO:1903508', 'GO:0048666', 'GO:0044238', 'GO:0004175', 'GO:0048812', 'GO:0051707', 'GO:0048731', 'GO:0048667', 'GO:0043603', 'GO:0048699', 'GO:0008219', 'GO:0043933', 'GO:0010605', 'GO:1901700', 'GO:0007010', 'GO:1901362', 'GO:0006812', 'GO:0045934', 'GO:0051253', 'GO:0048598', 'GO:0010608', 'GO:0071704', 'GO:0048585', 'GO:0003712', 'GO:0000978', 'GO:0008324', 'GO:0032879', 'GO:0051248', 'GO:0044087', 'GO:0045893', 'GO:0016020', 'GO:0099080', 'GO:0008610', 'GO:0007276', 'GO:0005886', 'GO:0015075', 'GO:0016614', 'GO:0031967', 'GO:0009893', 'GO:0022008', 'GO:0032787', 'GO:0005261', 'GO:0009536', 'GO:0009967', 'GO:0006974', 'GO:0008233', 'GO:0016788', 'GO:0043412', 'GO:0060089', 'GO:0007389', 'GO:0046907', 'GO:0007281', 'GO:0016301', 'GO:0090304', 'GO:0046872', 'GO:0031090', 'GO:0006950', 'GO:0010628', 'GO:0045935', 'GO:0007417', 'GO:0045184', 'GO:0042803', 'GO:0030855', 'GO:0019538', 'GO:0051239', 'GO:0002684', 'GO:0015031', 'GO:0017111', 'GO:0032101', 'GO:0019725', 'GO:0019637', 'GO:0004888', 'GO:0043207', 'GO:0019219', 'GO:0006952', 'GO:0051172', 'GO:0035639', 'GO:0120025', 'GO:0002009', 'GO:0000904', 'GO:0005216', 'GO:0034645', 'GO:0034641', 'GO:0061458', 'GO:0051049', 'GO:0005975', 'GO:0033043', 'GO:0072359', 'GO:0032502', 'GO:0009653', 'GO:1903047', 'GO:0035239', 'GO:0003824', 'GO:0045892', 'GO:0008134', 'GO:0097367', 'GO:0006468', 'GO:0003676', 'GO:0010033', 'GO:0012505', 'GO:1902679', 'GO:0065003', 'GO:0065007', 'GO:0010648', 'GO:0042325', 'GO:0042981', 'GO:0048869', 'GO:0030030', 'GO:0060589', 'GO:0007420', 'GO:0060322', 'GO:0003700', 'GO:0051234', 'GO:0032989', 'GO:0051050', 'GO:0006725', 'GO:0051716', 'GO:0060255', 'GO:0043167', 'GO:0098588', 'GO:0044237', 'GO:0140110', 'GO:0030097', 'GO:0043009', 'GO:0010556', 'GO:0061061', 'GO:1901137', 'GO:0005622', 'GO:0023052', 'GO:0014070', 'GO:0016741', 'GO:0051254', 'GO:0010629', 'GO:1903507', 'GO:0140096', 'GO:0009607', 'GO:0009987', 'GO:0015318', 'GO:0120036', 'GO:0009968', 'GO:0040008', 'GO:0044265', 'GO:0000226', 'GO:0015267', 'GO:0043604', 'GO:1901702', 'GO:0010557', 'GO:0035556', 'GO:0050776', 'GO:0016773', 'GO:0023056', 'GO:1903506', 'GO:0032990', 'GO:0016772', 'GO:0071495', 'GO:0071944', 'GO:0006811', 'GO:0036094', 'GO:0016491', 'GO:0031325', 'GO:0051726', 'GO:0051241', 'GO:0010468', 'GO:0005488', 'GO:0070013', 'GO:0023057', 'GO:0048522', 'GO:0006810', 'GO:0003677', 'GO:0007275', 'GO:0032501', 'GO:1901576', 'GO:0044093', 'GO:0044281', 'GO:0048584', 'GO:0030695', 'GO:0009056', 'GO:0046983', 'GO:0009605', 'GO:0019899', 'GO:0009314', 'GO:0051179', 'GO:0005783', 'GO:0043170', 'GO:0048523', 'GO:0009725', 'GO:0008152', 'GO:0140098', 'GO:0009889', 'GO:0048856', 'GO:0006357', 'GO:0004930', 'GO:0007399', 'GO:0002682', 'GO:1901265', 'GO:0030554', 'GO:1901698', 'GO:0008092', 'GO:0007165', 'GO:0044271', 'GO:0005856', 'GO:0140678', 'GO:0030312', 'GO:0042995', 'GO:0016818', 'GO:0042592', 'GO:0016043', 'GO:0010647', 'GO:0060429', 'GO:0040012', 'GO:1901701', 'GO:0016477', 'GO:0055086', 'GO:0065008', 'GO:0005575', 'GO:0016798', 'GO:0031982', 'GO:0070925', 'GO:0005215', 'GO:0008047', 'GO:0009894', 'GO:0032553', 'GO:0043226', 'GO:2001141', 'GO:0009892', 'GO:0006935', 'GO:0080134', 'GO:0009991', 'GO:0033036', 'GO:0033993', 'GO:0051128', 'GO:0008289', 'GO:0008168', 'GO:0120035', 'GO:0006793', 'GO:0046483', 'GO:0006996', 'GO:0048518', 'GO:0009059', 'GO:0043069', 'GO:0043227', 'GO:0006796', 'GO:0006396', 'GO:0030036', 'GO:0032555', 'GO:0009617', 'GO:0048646', 'GO:0004842', 'GO:0006082', 'GO:0005102', 'GO:1901564', 'GO:0048880', 'GO:0043005', 'GO:0022414', 'GO:0043168', 'GO:0034654', 'GO:0032504', 'GO:0005615', 'GO:0140657', 'GO:0009888', 'GO:0009790', 'GO:0071310', 'GO:0031324', 'GO:0022412', 'GO:0050793', 'GO:0003006', 'GO:0032880', 'GO:0031326', 'GO:0016310', 'GO:0097435', 'GO:1902494', 'GO:0009058', 'GO:0051130', 'GO:0031975', 'GO:0005515', 'GO:0051093', 'GO:0048858', 'GO:0009792', 'GO:0000981', 'GO:0030054', 'GO:0003690'}\n"
     ]
    }
   ],
   "source": [
    "print(selected_terms)"
   ]
  },
  {
   "cell_type": "code",
   "execution_count": 6,
   "id": "f3c82eb8",
   "metadata": {
    "execution": {
     "iopub.execute_input": "2023-05-19T02:46:07.852016Z",
     "iopub.status.busy": "2023-05-19T02:46:07.851323Z",
     "iopub.status.idle": "2023-05-19T02:47:08.682908Z",
     "shell.execute_reply": "2023-05-19T02:47:08.680318Z"
    },
    "papermill": {
     "duration": 60.839732,
     "end_time": "2023-05-19T02:47:08.685025",
     "exception": false,
     "start_time": "2023-05-19T02:46:07.845293",
     "status": "completed"
    },
    "tags": []
   },
   "outputs": [
    {
     "name": "stderr",
     "output_type": "stream",
     "text": [
      "100%|██████████| 142246/142246 [00:54<00:00, 2604.73it/s]\n"
     ]
    },
    {
     "data": {
      "text/plain": [
       "EntryID\n",
       "A0A009IHW8    [0, 0, 0, 0, 0, 1, 0, 0, 0, 0, 0, 0, 0, 0, 0, ...\n",
       "A0A021WW32    [0, 0, 0, 0, 1, 0, 0, 0, 0, 0, 0, 0, 0, 0, 0, ...\n",
       "A0A021WZA4    [0, 0, 0, 0, 0, 0, 0, 0, 0, 0, 0, 0, 0, 0, 0, ...\n",
       "A0A023FBW4    [0, 0, 0, 0, 0, 1, 0, 0, 0, 0, 0, 0, 0, 0, 0, ...\n",
       "A0A023FBW7    [0, 0, 0, 0, 0, 1, 0, 0, 0, 0, 0, 0, 0, 0, 0, ...\n",
       "Name: term, dtype: object"
      ]
     },
     "execution_count": 6,
     "metadata": {},
     "output_type": "execute_result"
    }
   ],
   "source": [
    "def assign_labels(annotations, selected_terms=selected_terms):\n",
    "    \n",
    "    intersection = selected_terms.intersection(annotations)\n",
    "    labels = np.isin(np.array(list(selected_terms)), np.array(list(intersection)))\n",
    "    \n",
    "    return list(labels.astype('int'))\n",
    "\n",
    "annotations = train_terms.groupby('EntryID')['term'].apply(set)\n",
    "labels = annotations.progress_apply(assign_labels)\n",
    "\n",
    "labels.head()"
   ]
  },
  {
   "cell_type": "markdown",
   "id": "8b798b4d",
   "metadata": {
    "papermill": {
     "duration": 0.043602,
     "end_time": "2023-05-19T02:47:08.772336",
     "exception": false,
     "start_time": "2023-05-19T02:47:08.728734",
     "status": "completed"
    },
    "tags": []
   },
   "source": [
    "# Loading train embeddings"
   ]
  },
  {
   "cell_type": "code",
   "execution_count": 7,
   "id": "ceaa7e42",
   "metadata": {
    "execution": {
     "iopub.execute_input": "2023-05-19T02:47:08.859935Z",
     "iopub.status.busy": "2023-05-19T02:47:08.859088Z",
     "iopub.status.idle": "2023-05-19T02:47:24.207641Z",
     "shell.execute_reply": "2023-05-19T02:47:24.206678Z"
    },
    "papermill": {
     "duration": 15.395405,
     "end_time": "2023-05-19T02:47:24.210633",
     "exception": false,
     "start_time": "2023-05-19T02:47:08.815228",
     "status": "completed"
    },
    "tags": []
   },
   "outputs": [],
   "source": [
    "train_ids = np.load('/kaggle/input/t5embeds/train_ids.npy')\n",
    "\n",
    "x_train = np.load('/kaggle/input/t5embeds/train_embeds.npy')\n",
    "y_train = np.array(labels[train_ids].to_list())"
   ]
  },
  {
   "cell_type": "markdown",
   "id": "eeef9c7c",
   "metadata": {
    "papermill": {
     "duration": 0.058791,
     "end_time": "2023-05-19T02:47:24.329876",
     "exception": false,
     "start_time": "2023-05-19T02:47:24.271085",
     "status": "completed"
    },
    "tags": []
   },
   "source": [
    "# Training"
   ]
  },
  {
   "cell_type": "code",
   "execution_count": 8,
   "id": "738f4a7d",
   "metadata": {
    "execution": {
     "iopub.execute_input": "2023-05-19T02:47:24.449074Z",
     "iopub.status.busy": "2023-05-19T02:47:24.448698Z",
     "iopub.status.idle": "2023-05-19T02:47:24.996166Z",
     "shell.execute_reply": "2023-05-19T02:47:24.995186Z"
    },
    "papermill": {
     "duration": 0.60976,
     "end_time": "2023-05-19T02:47:24.998558",
     "exception": false,
     "start_time": "2023-05-19T02:47:24.388798",
     "status": "completed"
    },
    "tags": []
   },
   "outputs": [],
   "source": [
    "x_train, x_valid, y_train, y_valid = train_test_split(x_train, y_train, shuffle=True, random_state=42)"
   ]
  },
  {
   "cell_type": "code",
   "execution_count": 9,
   "id": "88012b79",
   "metadata": {
    "execution": {
     "iopub.execute_input": "2023-05-19T02:47:25.085034Z",
     "iopub.status.busy": "2023-05-19T02:47:25.084727Z",
     "iopub.status.idle": "2023-05-19T02:47:27.736569Z",
     "shell.execute_reply": "2023-05-19T02:47:27.735651Z"
    },
    "papermill": {
     "duration": 2.702107,
     "end_time": "2023-05-19T02:47:27.743416",
     "exception": false,
     "start_time": "2023-05-19T02:47:25.041309",
     "status": "completed"
    },
    "tags": []
   },
   "outputs": [
    {
     "name": "stdout",
     "output_type": "stream",
     "text": [
      "Model: \"sequential\"\n",
      "_________________________________________________________________\n",
      " Layer (type)                Output Shape              Param #   \n",
      "=================================================================\n",
      " dense (Dense)               (None, 256)               262400    \n",
      "                                                                 \n",
      " dense_1 (Dense)             (None, 128)               32896     \n",
      "                                                                 \n",
      " dense_2 (Dense)             (None, 500)               64500     \n",
      "                                                                 \n",
      "=================================================================\n",
      "Total params: 359,796\n",
      "Trainable params: 359,796\n",
      "Non-trainable params: 0\n",
      "_________________________________________________________________\n"
     ]
    }
   ],
   "source": [
    "# build a simple MLP model in Keras with ReLU activation and nothing else\n",
    "nfeats = x_train.shape[1]\n",
    "nlabels = y_train.shape[1]\n",
    "model = Sequential()\n",
    "model.add(Dense(256, activation='relu', input_dim=nfeats))\n",
    "model.add(Dense(128, activation='relu'))\n",
    "model.add(Dense(nlabels, activation='sigmoid'))\n",
    "model.compile(loss='binary_crossentropy',\n",
    "                optimizer='adam',\n",
    "                metrics=[AUC()])\n",
    "model.summary()"
   ]
  },
  {
   "cell_type": "code",
   "execution_count": 10,
   "id": "8d312318",
   "metadata": {
    "execution": {
     "iopub.execute_input": "2023-05-19T02:47:27.832179Z",
     "iopub.status.busy": "2023-05-19T02:47:27.831861Z",
     "iopub.status.idle": "2023-05-19T02:48:31.225841Z",
     "shell.execute_reply": "2023-05-19T02:48:31.224881Z"
    },
    "papermill": {
     "duration": 63.440499,
     "end_time": "2023-05-19T02:48:31.227932",
     "exception": false,
     "start_time": "2023-05-19T02:47:27.787433",
     "status": "completed"
    },
    "tags": []
   },
   "outputs": [
    {
     "name": "stdout",
     "output_type": "stream",
     "text": [
      "Epoch 1/15\n",
      "834/834 [==============================] - 8s 5ms/step - loss: 0.1563 - auc: 0.8445 - val_loss: 0.1354 - val_auc: 0.8886\n",
      "Epoch 2/15\n",
      "834/834 [==============================] - 4s 4ms/step - loss: 0.1326 - auc: 0.8957 - val_loss: 0.1309 - val_auc: 0.8996\n",
      "Epoch 3/15\n",
      "834/834 [==============================] - 4s 5ms/step - loss: 0.1289 - auc: 0.9041 - val_loss: 0.1286 - val_auc: 0.9039\n",
      "Epoch 4/15\n",
      "834/834 [==============================] - 4s 4ms/step - loss: 0.1265 - auc: 0.9091 - val_loss: 0.1267 - val_auc: 0.9080\n",
      "Epoch 5/15\n",
      "834/834 [==============================] - 4s 4ms/step - loss: 0.1246 - auc: 0.9127 - val_loss: 0.1254 - val_auc: 0.9106\n",
      "Epoch 6/15\n",
      "834/834 [==============================] - 5s 6ms/step - loss: 0.1231 - auc: 0.9158 - val_loss: 0.1247 - val_auc: 0.9120\n",
      "Epoch 7/15\n",
      "834/834 [==============================] - 4s 4ms/step - loss: 0.1216 - auc: 0.9184 - val_loss: 0.1246 - val_auc: 0.9123\n",
      "Epoch 8/15\n",
      "834/834 [==============================] - 4s 4ms/step - loss: 0.1204 - auc: 0.9206 - val_loss: 0.1233 - val_auc: 0.9143\n",
      "Epoch 9/15\n",
      "834/834 [==============================] - 4s 5ms/step - loss: 0.1192 - auc: 0.9228 - val_loss: 0.1233 - val_auc: 0.9143\n",
      "Epoch 10/15\n",
      "834/834 [==============================] - 4s 4ms/step - loss: 0.1181 - auc: 0.9247 - val_loss: 0.1225 - val_auc: 0.9159\n",
      "Epoch 11/15\n",
      "834/834 [==============================] - 4s 4ms/step - loss: 0.1170 - auc: 0.9264 - val_loss: 0.1221 - val_auc: 0.9165\n",
      "Epoch 12/15\n",
      "834/834 [==============================] - 4s 5ms/step - loss: 0.1160 - auc: 0.9281 - val_loss: 0.1222 - val_auc: 0.9160\n",
      "Epoch 13/15\n",
      "834/834 [==============================] - 4s 4ms/step - loss: 0.1151 - auc: 0.9295 - val_loss: 0.1217 - val_auc: 0.9167\n",
      "Epoch 14/15\n",
      "834/834 [==============================] - 4s 4ms/step - loss: 0.1142 - auc: 0.9309 - val_loss: 0.1221 - val_auc: 0.9177\n",
      "Epoch 15/15\n",
      "834/834 [==============================] - 4s 5ms/step - loss: 0.1133 - auc: 0.9322 - val_loss: 0.1216 - val_auc: 0.9176\n"
     ]
    },
    {
     "data": {
      "text/plain": [
       "<keras.callbacks.History at 0x788e0d22b760>"
      ]
     },
     "execution_count": 10,
     "metadata": {},
     "output_type": "execute_result"
    }
   ],
   "source": [
    "model.fit(x_train, y_train, epochs=15, batch_size=128, validation_data=(x_valid, y_valid))"
   ]
  },
  {
   "cell_type": "code",
   "execution_count": 11,
   "id": "036aa7f3",
   "metadata": {
    "execution": {
     "iopub.execute_input": "2023-05-19T02:48:31.455874Z",
     "iopub.status.busy": "2023-05-19T02:48:31.454866Z",
     "iopub.status.idle": "2023-05-19T02:48:39.244655Z",
     "shell.execute_reply": "2023-05-19T02:48:39.243454Z"
    },
    "papermill": {
     "duration": 7.90535,
     "end_time": "2023-05-19T02:48:39.246930",
     "exception": false,
     "start_time": "2023-05-19T02:48:31.341580",
     "status": "completed"
    },
    "tags": []
   },
   "outputs": [
    {
     "name": "stdout",
     "output_type": "stream",
     "text": [
      "1112/1112 [==============================] - 2s 1ms/step\n"
     ]
    },
    {
     "data": {
      "text/plain": [
       "roc_auc    0.870418\n",
       "dtype: float64"
      ]
     },
     "execution_count": 11,
     "metadata": {},
     "output_type": "execute_result"
    }
   ],
   "source": [
    "y_hat = model.predict(x_valid)\n",
    "\n",
    "scores = pd.DataFrame(columns=list(selected_terms), index=['roc_auc'])\n",
    "\n",
    "for i, term in enumerate(selected_terms):\n",
    "    score = roc_auc_score(y_valid[:, i], y_hat[:, i])\n",
    "    scores[term] = score\n",
    "\n",
    "scores.mean(axis=1)"
   ]
  },
  {
   "cell_type": "markdown",
   "id": "e8725784",
   "metadata": {
    "papermill": {
     "duration": 0.113121,
     "end_time": "2023-05-19T02:48:39.476964",
     "exception": false,
     "start_time": "2023-05-19T02:48:39.363843",
     "status": "completed"
    },
    "tags": []
   },
   "source": [
    "# Submission"
   ]
  },
  {
   "cell_type": "code",
   "execution_count": 12,
   "id": "151f5de6",
   "metadata": {
    "execution": {
     "iopub.execute_input": "2023-05-19T02:48:39.782463Z",
     "iopub.status.busy": "2023-05-19T02:48:39.782110Z",
     "iopub.status.idle": "2023-05-19T02:48:52.518574Z",
     "shell.execute_reply": "2023-05-19T02:48:52.517570Z"
    },
    "papermill": {
     "duration": 12.912277,
     "end_time": "2023-05-19T02:48:52.521169",
     "exception": false,
     "start_time": "2023-05-19T02:48:39.608892",
     "status": "completed"
    },
    "tags": []
   },
   "outputs": [],
   "source": [
    "test_ids = np.load('/kaggle/input/t5embeds/test_ids.npy')\n",
    "x_test = np.load('/kaggle/input/t5embeds/test_embeds.npy')"
   ]
  },
  {
   "cell_type": "code",
   "execution_count": 13,
   "id": "00bf1701",
   "metadata": {
    "execution": {
     "iopub.execute_input": "2023-05-19T02:48:52.760532Z",
     "iopub.status.busy": "2023-05-19T02:48:52.760171Z",
     "iopub.status.idle": "2023-05-19T02:48:53.931107Z",
     "shell.execute_reply": "2023-05-19T02:48:53.930072Z"
    },
    "papermill": {
     "duration": 1.287733,
     "end_time": "2023-05-19T02:48:53.933363",
     "exception": false,
     "start_time": "2023-05-19T02:48:52.645630",
     "status": "completed"
    },
    "tags": []
   },
   "outputs": [
    {
     "data": {
      "text/plain": [
       "1572"
      ]
     },
     "execution_count": 13,
     "metadata": {},
     "output_type": "execute_result"
    }
   ],
   "source": [
    "del x_train, y_train, x_valid, y_valid, labels\n",
    "gc.collect()"
   ]
  },
  {
   "cell_type": "code",
   "execution_count": 14,
   "id": "5af6ad60",
   "metadata": {
    "execution": {
     "iopub.execute_input": "2023-05-19T02:48:54.169005Z",
     "iopub.status.busy": "2023-05-19T02:48:54.168418Z",
     "iopub.status.idle": "2023-05-19T02:49:58.103588Z",
     "shell.execute_reply": "2023-05-19T02:49:58.102497Z"
    },
    "papermill": {
     "duration": 64.17954,
     "end_time": "2023-05-19T02:49:58.233620",
     "exception": false,
     "start_time": "2023-05-19T02:48:54.054080",
     "status": "completed"
    },
    "tags": []
   },
   "outputs": [
    {
     "name": "stdout",
     "output_type": "stream",
     "text": [
      "4434/4434 [==============================] - 7s 2ms/step\n",
      "processing 29 chunks of 5000 predictions each\n",
      "processing chunk range(0, 5000)\n",
      "processing chunk range(5000, 10000)\n",
      "processing chunk range(10000, 15000)\n",
      "processing chunk range(15000, 20000)\n",
      "processing chunk range(20000, 25000)\n",
      "processing chunk range(25000, 30000)\n",
      "processing chunk range(30000, 35000)\n",
      "processing chunk range(35000, 40000)\n",
      "processing chunk range(40000, 45000)\n",
      "processing chunk range(45000, 50000)\n",
      "processing chunk range(50000, 55000)\n",
      "processing chunk range(55000, 60000)\n",
      "processing chunk range(60000, 65000)\n",
      "processing chunk range(65000, 70000)\n",
      "processing chunk range(70000, 75000)\n",
      "processing chunk range(75000, 80000)\n",
      "processing chunk range(80000, 85000)\n",
      "processing chunk range(85000, 90000)\n",
      "processing chunk range(90000, 95000)\n",
      "processing chunk range(95000, 100000)\n",
      "processing chunk range(100000, 105000)\n",
      "processing chunk range(105000, 110000)\n",
      "processing chunk range(110000, 115000)\n",
      "processing chunk range(115000, 120000)\n",
      "processing chunk range(120000, 125000)\n",
      "processing chunk range(125000, 130000)\n",
      "processing chunk range(130000, 135000)\n",
      "processing chunk range(135000, 140000)\n",
      "processing chunk range(140000, 141865)\n"
     ]
    },
    {
     "data": {
      "text/html": [
       "<div>\n",
       "<style scoped>\n",
       "    .dataframe tbody tr th:only-of-type {\n",
       "        vertical-align: middle;\n",
       "    }\n",
       "\n",
       "    .dataframe tbody tr th {\n",
       "        vertical-align: top;\n",
       "    }\n",
       "\n",
       "    .dataframe thead th {\n",
       "        text-align: right;\n",
       "    }\n",
       "</style>\n",
       "<table border=\"1\" class=\"dataframe\">\n",
       "  <thead>\n",
       "    <tr style=\"text-align: right;\">\n",
       "      <th></th>\n",
       "      <th>level_0</th>\n",
       "      <th>level_1</th>\n",
       "      <th>prediction</th>\n",
       "    </tr>\n",
       "  </thead>\n",
       "  <tbody>\n",
       "    <tr>\n",
       "      <th>0</th>\n",
       "      <td>Q9CQV8</td>\n",
       "      <td>GO:0042802</td>\n",
       "      <td>0.166924</td>\n",
       "    </tr>\n",
       "    <tr>\n",
       "      <th>1</th>\n",
       "      <td>Q9CQV8</td>\n",
       "      <td>GO:0051174</td>\n",
       "      <td>0.195427</td>\n",
       "    </tr>\n",
       "    <tr>\n",
       "      <th>2</th>\n",
       "      <td>Q9CQV8</td>\n",
       "      <td>GO:0097708</td>\n",
       "      <td>0.136584</td>\n",
       "    </tr>\n",
       "    <tr>\n",
       "      <th>3</th>\n",
       "      <td>Q9CQV8</td>\n",
       "      <td>GO:0065009</td>\n",
       "      <td>0.239023</td>\n",
       "    </tr>\n",
       "    <tr>\n",
       "      <th>4</th>\n",
       "      <td>Q9CQV8</td>\n",
       "      <td>GO:0043229</td>\n",
       "      <td>0.490630</td>\n",
       "    </tr>\n",
       "  </tbody>\n",
       "</table>\n",
       "</div>"
      ],
      "text/plain": [
       "  level_0     level_1  prediction\n",
       "0  Q9CQV8  GO:0042802    0.166924\n",
       "1  Q9CQV8  GO:0051174    0.195427\n",
       "2  Q9CQV8  GO:0097708    0.136584\n",
       "3  Q9CQV8  GO:0065009    0.239023\n",
       "4  Q9CQV8  GO:0043229    0.490630"
      ]
     },
     "execution_count": 14,
     "metadata": {},
     "output_type": "execute_result"
    }
   ],
   "source": [
    "predictions = model.predict(x_test)\n",
    "del x_test\n",
    "gc.collect()\n",
    "\n",
    "chunk_size = 5_000\n",
    "chunks = [range(i, min(i + chunk_size, len(predictions))) for i in range(0, len(predictions), chunk_size)]\n",
    "\n",
    "final_sub = pd.DataFrame()  # Create an empty DataFrame to hold the final result\n",
    "\n",
    "print(f\"processing {len(chunks)} chunks of {chunk_size} predictions each\")\n",
    "\n",
    "for chunk in chunks:\n",
    "    print(f\"processing chunk {chunk}\")\n",
    "    sub = pd.DataFrame(data=predictions[chunk], columns=list(selected_terms), index=test_ids[chunk])\n",
    "    sub = sub.T.unstack().reset_index(name='prediction')\n",
    "    sub = sub.loc[sub['prediction'] > 0]\n",
    "    final_sub = pd.concat([final_sub, sub])  # Concatenate current chunk DataFrame to the final DataFrame\n",
    "\n",
    "final_sub.head()"
   ]
  },
  {
   "cell_type": "code",
   "execution_count": 15,
   "id": "4622c70d",
   "metadata": {
    "execution": {
     "iopub.execute_input": "2023-05-19T02:49:58.490299Z",
     "iopub.status.busy": "2023-05-19T02:49:58.489944Z",
     "iopub.status.idle": "2023-05-19T02:54:13.933577Z",
     "shell.execute_reply": "2023-05-19T02:54:13.932521Z"
    },
    "papermill": {
     "duration": 255.574446,
     "end_time": "2023-05-19T02:54:13.936401",
     "exception": false,
     "start_time": "2023-05-19T02:49:58.361955",
     "status": "completed"
    },
    "tags": []
   },
   "outputs": [],
   "source": [
    "final_sub.to_csv('submission.tsv', sep='\\t', index=False, header=False)"
   ]
  }
 ],
 "metadata": {
  "kernelspec": {
   "display_name": "Python 3",
   "language": "python",
   "name": "python3"
  },
  "language_info": {
   "codemirror_mode": {
    "name": "ipython",
    "version": 3
   },
   "file_extension": ".py",
   "mimetype": "text/x-python",
   "name": "python",
   "nbconvert_exporter": "python",
   "pygments_lexer": "ipython3",
   "version": "3.10.10"
  },
  "papermill": {
   "default_parameters": {},
   "duration": 512.293692,
   "end_time": "2023-05-19T02:54:16.986340",
   "environment_variables": {},
   "exception": null,
   "input_path": "__notebook__.ipynb",
   "output_path": "__notebook__.ipynb",
   "parameters": {},
   "start_time": "2023-05-19T02:45:44.692648",
   "version": "2.4.0"
  }
 },
 "nbformat": 4,
 "nbformat_minor": 5
}
